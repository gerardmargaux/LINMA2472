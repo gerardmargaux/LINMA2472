{
 "cells": [
  {
   "cell_type": "code",
   "execution_count": 2,
   "metadata": {},
   "outputs": [],
   "source": [
    "import subprocess \n",
    "import sys\n",
    "subprocess.check_call([sys.executable, '-m', 'pip', 'install', 'gensim'])\n",
    "subprocess.check_call([sys.executable, '-m', 'pip', 'install', 'sentence_transformers'])\n",
    "import gensim\n",
    "import pandas as pd\n",
    "from sklearn.naive_bayes import MultinomialNB\n",
    "from tqdm import tqdm\n",
    "from sklearn import preprocessing\n",
    "from gensim.parsing.preprocessing import preprocess_string\n",
    "from gensim.parsing.preprocessing import strip_tags       # strip html tags\n",
    "from gensim.parsing.preprocessing import strip_multiple_whitespaces\n",
    "from gensim.parsing.preprocessing import stem_text\n",
    "from gensim.parsing.preprocessing import remove_stopwords\n",
    "from gensim.parsing.preprocessing import strip_punctuation, strip_non_alphanum\n",
    "from sentence_transformers import SentenceTransformer\n",
    "import nltk\n",
    "import matplotlib.pyplot as plt\n",
    "import numpy as np\n",
    "from sklearn.feature_selection import VarianceThreshold\n",
    "from sklearn.linear_model import LogisticRegression\n",
    "from sklearn.ensemble import RandomForestClassifier, GradientBoostingClassifier\n",
    "from sklearn.metrics import accuracy_score\n",
    "from sklearn import svm\n",
    "from sklearn.neighbors import KNeighborsClassifier"
   ]
  },
  {
   "cell_type": "code",
   "execution_count": 3,
   "metadata": {},
   "outputs": [],
   "source": [
    "def apply_filters(text):\n",
    "    result = []\n",
    "    filters = [lambda x: x.lower(), stem_text, strip_punctuation, strip_non_alphanum, remove_stopwords,\n",
    "               strip_multiple_whitespaces]\n",
    "    for sent in text:\n",
    "        parsed_line = preprocess_string(sent, filters)\n",
    "        result.append(parsed_line)\n",
    "    return sum(result, [])\n",
    "\n",
    "\n",
    "def preprocessing_fun(df, token=True):\n",
    "    sent_detector = nltk.data.load('punkt/english.pickle')\n",
    "    # Preprocessing filters\n",
    "    if token:\n",
    "        df['preprocessed'] = df.apply(lambda row: sent_detector.tokenize(row['body']), axis=1).apply(apply_filters)\n",
    "    else:\n",
    "        df['preprocessed'] = df.apply(lambda row: sent_detector.tokenize(row['body']), axis=1)\n",
    "    return df"
   ]
  },
  {
   "cell_type": "code",
   "execution_count": 4,
   "metadata": {},
   "outputs": [],
   "source": [
    "df_biden_train = pd.read_csv('./comments/JoeBiden_train.csv').rename(columns={\"Unnamed: 0\": \"index\"}).set_index(\"index\")\n",
    "df_biden_train['subreddit'] = 0\n",
    "df_biden_test = pd.read_csv('./comments/JoeBiden_test.csv').rename(columns={\"Unnamed: 0\": \"index\"}).set_index(\"index\")\n",
    "df_biden_test['subreddit'] = 0\n",
    "df_trump_train = pd.read_csv('./comments/The_Donald_train.csv').rename(columns={\"Unnamed: 0\": \"index\"}).set_index(\"index\")\n",
    "df_trump_train['subreddit'] = 1\n",
    "df_trump_test = pd.read_csv('./comments/The_Donald_test.csv').rename(columns={\"Unnamed: 0\": \"index\"}).set_index(\"index\")\n",
    "df_trump_test['subreddit'] = 1\n",
    "\n",
    "df_train = pd.concat([df_biden_train, df_trump_train], axis=0)\n",
    "df_test = pd.concat([df_biden_test, df_trump_test], axis=0)"
   ]
  },
  {
   "cell_type": "code",
   "execution_count": 5,
   "metadata": {},
   "outputs": [],
   "source": [
    "df_train = df_train.sample(frac=1).reset_index().drop(columns=\"index\")\n",
    "df_test = df_test.sample(frac=1).reset_index().drop(columns=\"index\")\n",
    "\n",
    "# Preprocessing\n",
    "df_train = preprocessing_fun(df_train, token=True)\n",
    "df_test = preprocessing_fun(df_test, token=True)\n",
    "nbr_test = len(df_test)"
   ]
  },
  {
   "cell_type": "code",
   "execution_count": null,
   "metadata": {},
   "outputs": [
    {
     "name": "stderr",
     "output_type": "stream",
     "text": [
      "/Users/margauxgerard/Documents/Mémoire 2021/CovidThesis/venv/lib/python3.7/site-packages/tqdm/std.py:670: FutureWarning: The Panel class is removed from pandas. Accessing it from the top-level namespace will also be removed in the next version\n",
      "  from pandas import Panel\n",
      "  4%|▍         | 1110/28214 [06:01<1:52:59,  4.00it/s]"
     ]
    }
   ],
   "source": [
    "df_tot = df_train.append(df_test)\n",
    "tqdm.pandas()\n",
    "sent_detector = nltk.data.load('punkt/english.pickle')\n",
    "embedder = SentenceTransformer('roberta-base-nli-stsb-mean-tokens')\n",
    "encoded = df_tot['preprocessed'].progress_apply(lambda row: embedder.encode(row))"
   ]
  },
  {
   "cell_type": "code",
   "execution_count": 1,
   "metadata": {},
   "outputs": [
    {
     "ename": "NameError",
     "evalue": "name 'encoded' is not defined",
     "output_type": "error",
     "traceback": [
      "\u001b[0;31m---------------------------------------------------------------------------\u001b[0m",
      "\u001b[0;31mNameError\u001b[0m                                 Traceback (most recent call last)",
      "\u001b[0;32m<ipython-input-1-6ac51683b48e>\u001b[0m in \u001b[0;36m<module>\u001b[0;34m\u001b[0m\n\u001b[0;32m----> 1\u001b[0;31m \u001b[0mlist_df\u001b[0m \u001b[0;34m=\u001b[0m \u001b[0mencoded\u001b[0m\u001b[0;34m.\u001b[0m\u001b[0miloc\u001b[0m\u001b[0;34m[\u001b[0m\u001b[0;36m0\u001b[0m\u001b[0;34m]\u001b[0m\u001b[0;34m[\u001b[0m\u001b[0;34m'preprocessed'\u001b[0m\u001b[0;34m]\u001b[0m\u001b[0;34m.\u001b[0m\u001b[0mreshape\u001b[0m\u001b[0;34m(\u001b[0m\u001b[0;34m-\u001b[0m\u001b[0;36m1\u001b[0m\u001b[0;34m)\u001b[0m\u001b[0;34m\u001b[0m\u001b[0;34m\u001b[0m\u001b[0m\n\u001b[0m\u001b[1;32m      2\u001b[0m \u001b[0;32mwith\u001b[0m \u001b[0mtqdm\u001b[0m\u001b[0;34m(\u001b[0m\u001b[0mtotal\u001b[0m\u001b[0;34m=\u001b[0m\u001b[0mlen\u001b[0m\u001b[0;34m(\u001b[0m\u001b[0mrange\u001b[0m\u001b[0;34m(\u001b[0m\u001b[0;36m1\u001b[0m\u001b[0;34m,\u001b[0m \u001b[0mencoded\u001b[0m\u001b[0;34m.\u001b[0m\u001b[0mshape\u001b[0m\u001b[0;34m[\u001b[0m\u001b[0;36m0\u001b[0m\u001b[0;34m]\u001b[0m\u001b[0;34m-\u001b[0m\u001b[0;36m1\u001b[0m\u001b[0;34m)\u001b[0m\u001b[0;34m)\u001b[0m\u001b[0;34m)\u001b[0m \u001b[0;32mas\u001b[0m \u001b[0mpbar\u001b[0m\u001b[0;34m:\u001b[0m\u001b[0;34m\u001b[0m\u001b[0;34m\u001b[0m\u001b[0m\n\u001b[1;32m      3\u001b[0m     \u001b[0;32mfor\u001b[0m \u001b[0mi\u001b[0m \u001b[0;32min\u001b[0m \u001b[0mrange\u001b[0m\u001b[0;34m(\u001b[0m\u001b[0;36m1\u001b[0m\u001b[0;34m,\u001b[0m \u001b[0mencoded\u001b[0m\u001b[0;34m.\u001b[0m\u001b[0mshape\u001b[0m\u001b[0;34m[\u001b[0m\u001b[0;36m0\u001b[0m\u001b[0;34m]\u001b[0m\u001b[0;34m-\u001b[0m\u001b[0;36m1\u001b[0m\u001b[0;34m)\u001b[0m\u001b[0;34m:\u001b[0m\u001b[0;34m\u001b[0m\u001b[0;34m\u001b[0m\u001b[0m\n\u001b[1;32m      4\u001b[0m         \u001b[0mdf\u001b[0m \u001b[0;34m=\u001b[0m \u001b[0mencoded\u001b[0m\u001b[0;34m.\u001b[0m\u001b[0miloc\u001b[0m\u001b[0;34m[\u001b[0m\u001b[0mi\u001b[0m\u001b[0;34m]\u001b[0m\u001b[0;34m[\u001b[0m\u001b[0;34m'preprocessed'\u001b[0m\u001b[0;34m]\u001b[0m\u001b[0;34m.\u001b[0m\u001b[0mreshape\u001b[0m\u001b[0;34m(\u001b[0m\u001b[0;34m-\u001b[0m\u001b[0;36m1\u001b[0m\u001b[0;34m)\u001b[0m\u001b[0;34m\u001b[0m\u001b[0;34m\u001b[0m\u001b[0m\n\u001b[1;32m      5\u001b[0m         \u001b[0mlist_df\u001b[0m\u001b[0;34m.\u001b[0m\u001b[0mappend\u001b[0m\u001b[0;34m(\u001b[0m\u001b[0mdf\u001b[0m\u001b[0;34m)\u001b[0m\u001b[0;34m\u001b[0m\u001b[0;34m\u001b[0m\u001b[0m\n",
      "\u001b[0;31mNameError\u001b[0m: name 'encoded' is not defined"
     ]
    }
   ],
   "source": [
    "list_df = encoded.iloc[0]['preprocessed'].reshape(-1)\n",
    "with tqdm(total=len(range(1, encoded.shape[0]-1))) as pbar:\n",
    "    for i in range(1, encoded.shape[0]-1):\n",
    "        df = encoded.iloc[i]['preprocessed'].reshape(-1)\n",
    "        list_df.append(df)\n",
    "        pbar.update(1)\n",
    "df_tot = pd.DataFrame(list_df)\n",
    "df_tot"
   ]
  },
  {
   "cell_type": "code",
   "execution_count": null,
   "metadata": {},
   "outputs": [],
   "source": []
  }
 ],
 "metadata": {
  "kernelspec": {
   "display_name": "python_jupyter",
   "language": "python",
   "name": "python_jupyter"
  },
  "language_info": {
   "codemirror_mode": {
    "name": "ipython",
    "version": 3
   },
   "file_extension": ".py",
   "mimetype": "text/x-python",
   "name": "python",
   "nbconvert_exporter": "python",
   "pygments_lexer": "ipython3",
   "version": "3.7.5"
  }
 },
 "nbformat": 4,
 "nbformat_minor": 4
}
